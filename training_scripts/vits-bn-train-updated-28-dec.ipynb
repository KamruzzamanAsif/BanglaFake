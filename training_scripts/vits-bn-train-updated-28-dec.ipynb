{
 "cells": [
  {
   "cell_type": "code",
   "execution_count": null,
   "metadata": {
    "execution": {
     "iopub.execute_input": "2024-12-19T05:46:37.329244Z",
     "iopub.status.busy": "2024-12-19T05:46:37.328916Z",
     "iopub.status.idle": "2024-12-19T05:48:18.464420Z",
     "shell.execute_reply": "2024-12-19T05:48:18.463488Z",
     "shell.execute_reply.started": "2024-12-19T05:46:37.329189Z"
    },
    "id": "1V5ETAIsBHkB",
    "trusted": true
   },
   "outputs": [],
   "source": [
    "%%capture\n",
    "!pip install TTS\n",
    "!sudo apt-get install espeak-ng -y\n",
    "!pip install gdown\n",
    "!sudo apt-get install unzip\n",
    "!gdown \"https://drive.google.com/uc?id=your_id\"\n",
    "!unzip /teamspace/studios/this_studio/data.zip -d /teamspace/studios/this_studio/data"
   ]
  },
  {
   "cell_type": "code",
   "execution_count": null,
   "metadata": {},
   "outputs": [],
   "source": [
    "from huggingface_hub import snapshot_download\n",
    "local_data_dir = \"/teamspace/studios/this_studio/model/male_vits_23_dec_2024-December-23-2024_09+14AM-0000000\"\n",
    "dataset_repo = \"sifat1221/vits_bn_tts_checkpoint_125000\"\n",
    "file_path = snapshot_download(repo_id=dataset_repo, local_dir=local_data_dir)"
   ]
  },
  {
   "cell_type": "code",
   "execution_count": null,
   "metadata": {},
   "outputs": [],
   "source": [
    "import os\n",
    "folder_path = \"/teamspace/studios/this_studio/data/data/wav\"\n",
    "file_count = len([f for f in os.listdir(folder_path) if os.path.isfile(os.path.join(folder_path, f))])\n",
    "print(f\"Number of files in '{folder_path}': {file_count}\")"
   ]
  },
  {
   "cell_type": "code",
   "execution_count": 2,
   "metadata": {
    "execution": {
     "iopub.execute_input": "2024-12-19T05:48:18.466718Z",
     "iopub.status.busy": "2024-12-19T05:48:18.466428Z",
     "iopub.status.idle": "2024-12-19T05:48:38.693088Z",
     "shell.execute_reply": "2024-12-19T05:48:38.692365Z",
     "shell.execute_reply.started": "2024-12-19T05:48:18.466692Z"
    },
    "id": "9DNFoxAXAecx",
    "trusted": true
   },
   "outputs": [],
   "source": [
    "import numpy as np\n",
    "import pandas as pd\n",
    "import os\n",
    "# os.environ[\"CUDA_VISIBLE_DEVICES\"] = \"0\"\n",
    "import torch\n",
    "from trainer import Trainer, TrainerArgs\n",
    "from TTS.tts.configs.shared_configs import BaseDatasetConfig\n",
    "from TTS.tts.configs.vits_config import VitsConfig\n",
    "from TTS.utils.audio import AudioProcessor\n",
    "from TTS.tts.datasets import load_tts_samples\n",
    "from TTS.tts.utils.text.tokenizer import TTSTokenizer\n",
    "from TTS.tts.models.vits import Vits, VitsAudioConfig, CharactersConfig"
   ]
  },
  {
   "cell_type": "code",
   "execution_count": null,
   "metadata": {
    "execution": {
     "iopub.execute_input": "2024-12-19T05:48:38.694708Z",
     "iopub.status.busy": "2024-12-19T05:48:38.694094Z",
     "iopub.status.idle": "2024-12-19T05:48:38.700588Z",
     "shell.execute_reply": "2024-12-19T05:48:38.699669Z",
     "shell.execute_reply.started": "2024-12-19T05:48:38.694670Z"
    },
    "id": "rbleFps7Utji",
    "trusted": true
   },
   "outputs": [],
   "source": [
    "if \"COLAB_GPU\" in os.environ:\n",
    "    from google.colab import drive\n",
    "    drive.mount('/content/drive')\n",
    "    data_root = '/content/drive/MyDrive/IIT/4-2/ML/ML-Project_Team_minions/data'\n",
    "    model_root = '/content/drive/MyDrive/IIT/4-2/ML/ML-Project_Team_minions/Models'\n",
    "    \n",
    "elif os.path.exists(\"/kaggle\"):\n",
    "    print(\"Running in Kaggle\")\n",
    "    data_root = '/kaggle/input/bangla-audio/data'\n",
    "    model_root = '/kaggle/working/'\n",
    "\n",
    "else:\n",
    "    print(\"Running in Lightening\")\n",
    "    data_root = '/teamspace/studios/this_studio/data/data'\n",
    "    model_root = '/teamspace/studios/this_studio/model'\n"
   ]
  },
  {
   "cell_type": "code",
   "execution_count": 4,
   "metadata": {
    "execution": {
     "iopub.execute_input": "2024-12-19T05:48:38.702128Z",
     "iopub.status.busy": "2024-12-19T05:48:38.701849Z",
     "iopub.status.idle": "2024-12-19T05:48:38.730356Z",
     "shell.execute_reply": "2024-12-19T05:48:38.729709Z",
     "shell.execute_reply.started": "2024-12-19T05:48:38.702103Z"
    },
    "id": "cCxQqy78CKVW",
    "trusted": true
   },
   "outputs": [],
   "source": [
    "male = True\n",
    "pretrained = True\n",
    "pretrained_path = \"\"\n",
    "if(pretrained):\n",
    "    pretrained_path = '/teamspace/studios/this_studio/model/male_vits_23_dec_2024-December-23-2024_09+14AM-0000000'\n",
    "    \n",
    "if(male):\n",
    "    meta_file = f'{data_root}/metadata.csv'\n",
    "    root_path = f'{data_root}'\n",
    "else:\n",
    "    meta_file = f'{data_root}/female/mono/metadata_female.txt'\n",
    "    root_path = f'{data_root}/female/mono'"
   ]
  },
  {
   "cell_type": "code",
   "execution_count": 5,
   "metadata": {
    "execution": {
     "iopub.execute_input": "2024-12-19T05:48:38.731679Z",
     "iopub.status.busy": "2024-12-19T05:48:38.731329Z",
     "iopub.status.idle": "2024-12-19T05:48:38.743996Z",
     "shell.execute_reply": "2024-12-19T05:48:38.743096Z",
     "shell.execute_reply.started": "2024-12-19T05:48:38.731639Z"
    },
    "id": "07w-p9ZlVbAx",
    "trusted": true
   },
   "outputs": [],
   "source": [
    "def formatter(root_path, meta_file, **kwargs):  # pylint: disable=unused-argument\n",
    "    txt_file = meta_file\n",
    "    items = []\n",
    "    speaker_name = \"ljspeech\"\n",
    "    with open(txt_file, \"r\", encoding=\"utf-8\") as ttf:\n",
    "        for line in ttf:\n",
    "            cols = line.split(\"|\")\n",
    "            wav_file = os.path.join(root_path, \"wav\", cols[0] + \".wav\")\n",
    "            print(\"wav_file:\",wav_file)\n",
    "            text = ''\n",
    "            try:\n",
    "                text = cols[2]\n",
    "                print(\"text:\",text)\n",
    "            except:\n",
    "                print(\"not found\")\n",
    "            items.append({\"text\": text, \"audio_file\": wav_file, \"speaker_name\": speaker_name, \"root_path\": root_path})\n",
    "    return items"
   ]
  },
  {
   "cell_type": "code",
   "execution_count": null,
   "metadata": {
    "execution": {
     "iopub.execute_input": "2024-12-19T05:48:38.745307Z",
     "iopub.status.busy": "2024-12-19T05:48:38.745040Z",
     "iopub.status.idle": "2024-12-19T05:48:38.774144Z",
     "shell.execute_reply": "2024-12-19T05:48:38.773486Z",
     "shell.execute_reply.started": "2024-12-19T05:48:38.745283Z"
    },
    "id": "y5xJE0clWDRw",
    "trusted": true
   },
   "outputs": [],
   "source": [
    "dataset_config = BaseDatasetConfig(meta_file_train=meta_file, path=os.path.join(root_path, \"\"))\n",
    "\n",
    "train_samples, eval_samples = load_tts_samples(dataset_config,formatter=formatter, eval_split=True, eval_split_size=0.2)\n",
    "# print(help(load_tts_samples))\n",
    "\n",
    "print(len(train_samples),len(eval_samples))"
   ]
  },
  {
   "cell_type": "code",
   "execution_count": null,
   "metadata": {
    "execution": {
     "iopub.execute_input": "2024-12-19T05:48:38.776174Z",
     "iopub.status.busy": "2024-12-19T05:48:38.775935Z",
     "iopub.status.idle": "2024-12-19T05:48:59.198837Z",
     "shell.execute_reply": "2024-12-19T05:48:59.197911Z",
     "shell.execute_reply.started": "2024-12-19T05:48:38.776151Z"
    },
    "id": "o3tTV0-4WrJW",
    "trusted": true
   },
   "outputs": [],
   "source": [
    "output_path = model_root\n",
    "phoneme_cache_path = os.path.join(output_path, \"phoneme_cache\")\n",
    "os.makedirs(output_path,exist_ok=True)\n",
    "\n",
    "\n",
    "audio_config = VitsAudioConfig(sample_rate=22050, win_length=1024, hop_length=256, num_mels=80, mel_fmin=0, mel_fmax=None)\n",
    "config = VitsConfig(\n",
    "    audio=audio_config,\n",
    "    run_name=\"male_vits_23_dec_2024\",\n",
    "    batch_size=48,\n",
    "    eval_batch_size=32,\n",
    "    epochs=1000,\n",
    "    save_step=5000,\n",
    "    print_step=500,\n",
    "    batch_group_size=0,\n",
    "    num_loader_workers=8,\n",
    "    num_eval_loader_workers=8,\n",
    "    run_eval=True,\n",
    "    test_delay_epochs=-1,\n",
    "    phonemizer=\"espeak\",\n",
    "    text_cleaner='phoneme_cleaners', #'multilingual_cleaners', #\"collapse_whitespace\" phoneme_cleaners multilingual_cleaners\n",
    "    use_phonemes=True,\n",
    "    phoneme_language=\"bn\",\n",
    "    phoneme_cache_path=phoneme_cache_path,\n",
    "    compute_input_seq_cache=True,\n",
    "    add_blank=True,\n",
    "    use_language_weighted_sampler = True,\n",
    "    print_eval=False,\n",
    "    mixed_precision=False,\n",
    "    output_path=output_path,\n",
    "    datasets=[dataset_config],\n",
    "    # characters = characters_config,\n",
    "    cudnn_benchmark=True,\n",
    "    test_sentences = [\n",
    "        'আমার   সোনার বাংলা, আমি তোমায় ভালোবাসি।',\n",
    "        'চিরদিন   তোমার আকাশ, তোমার বাতাস, আমার প্রাণে বাজায় বাঁশি',\n",
    "        'ও মা,   ফাগুনে তোর আমের বনে ঘ্রাণে পাগল করে,মরি হায়, হায় রে।'\n",
    "    ]\n",
    ")\n",
    "\n",
    "ap = AudioProcessor.init_from_config(config)\n",
    "tokenizer, config = TTSTokenizer.init_from_config(config)\n",
    "model = Vits(config, ap, tokenizer, speaker_manager=None)\n",
    "trainer = Trainer(TrainerArgs(continue_path = pretrained_path), config, output_path, model=model, train_samples=train_samples, eval_samples=eval_samples)"
   ]
  },
  {
   "cell_type": "code",
   "execution_count": null,
   "metadata": {
    "execution": {
     "iopub.execute_input": "2024-12-19T05:48:59.200789Z",
     "iopub.status.busy": "2024-12-19T05:48:59.200039Z",
     "iopub.status.idle": "2024-12-19T05:50:40.031344Z",
     "shell.execute_reply": "2024-12-19T05:50:40.030375Z",
     "shell.execute_reply.started": "2024-12-19T05:48:59.200728Z"
    },
    "id": "mu_ubrLJYNH9",
    "trusted": true
   },
   "outputs": [],
   "source": [
    "%%time\n",
    "trainer.fit()"
   ]
  },
  {
   "cell_type": "code",
   "execution_count": null,
   "metadata": {},
   "outputs": [],
   "source": [
    "from huggingface_hub import HfApi, upload_folder\n",
    "\n",
    "api_token = \"your_api_token\"\n",
    "repo_id = \"sifat1221/vits_bn_tts_checkpoint_140000\"\n",
    "local_dir = '/teamspace/studios/this_studio/model/male_vits_23_dec_2024-December-23-2024_09+14AM-0000000'\n",
    "\n",
    "api = HfApi(token=api_token)\n",
    "api.create_repo(repo_id=repo_id, repo_type=\"model\", private=False, exist_ok=True)\n",
    "\n",
    "upload_folder(\n",
    "    folder_path=local_dir,\n",
    "    path_in_repo=\"\",\n",
    "    repo_id=repo_id,\n",
    "    token=api_token,\n",
    "    repo_type=\"model\",\n",
    ")\n",
    "print(f\"Files from '{local_dir}' uploaded to the repository '{repo_id}' successfully.\")"
   ]
  }
 ],
 "metadata": {
  "colab": {
   "provenance": []
  },
  "kaggle": {
   "accelerator": "nvidiaTeslaT4",
   "dataSources": [
    {
     "datasetId": 6330921,
     "sourceId": 10237841,
     "sourceType": "datasetVersion"
    }
   ],
   "dockerImageVersionId": 30805,
   "isGpuEnabled": true,
   "isInternetEnabled": true,
   "language": "python",
   "sourceType": "notebook"
  },
  "kernelspec": {
   "display_name": "Python 3",
   "language": "python",
   "name": "python3"
  },
  "language_info": {
   "codemirror_mode": {
    "name": "ipython",
    "version": 3
   },
   "file_extension": ".py",
   "mimetype": "text/x-python",
   "name": "python",
   "nbconvert_exporter": "python",
   "pygments_lexer": "ipython3",
   "version": "3.10.14"
  }
 },
 "nbformat": 4,
 "nbformat_minor": 4
}
